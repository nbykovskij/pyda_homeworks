{
 "cells": [
  {
   "cell_type": "markdown",
   "metadata": {},
   "source": [
    "# Задание 1"
   ]
  },
  {
   "cell_type": "markdown",
   "metadata": {},
   "source": [
    "Печатные газеты использовали свой формат дат для каждого выпуска. \n",
    "Для каждой газеты из списка напишите формат указанной даты для перевода в объект datetime:\n",
    "\n",
    "The Moscow Times - Wednesday, October 2, 2002\n",
    "The Guardian - Friday, 11.10.13\n",
    "Daily News - Thursday, 18 August 1977"
   ]
  },
  {
   "cell_type": "code",
   "execution_count": null,
   "metadata": {},
   "outputs": [],
   "source": [
    "from datetime import datetime\n",
    "\n",
    "npp_dict = {\n",
    "    'The Moscow Times' : 'Wednesday, October 2, 2002',\n",
    "    'The Guardian' : 'Friday, 11.10.13',\n",
    "    'Daily News' : 'Thursday, 18 August 1977'\n",
    "}\n",
    "\n",
    "a = datetime.strptime('Wednesday, October 2, 2002', '%A, %B %w, %Y')\n",
    "b = datetime.strptime('Friday, 11.10.13', '%A, %m.%d.%y')\n",
    "c = datetime.strptime('Thursday, 18 August 1977', '%A, %d %B %Y')\n",
    "\n",
    "print(npp_dict['The Moscow Times'] + ' = ' + str(a.strftime('%Y-%m-%d')))\n",
    "print(npp_dict['The Guardian'] + ' = ' + str(b.strftime('%Y-%m-%d')))\n",
    "print(npp_dict['Daily News'] + ' = ' + str(c.strftime('%Y-%m-%d')))"
   ]
  },
  {
   "cell_type": "markdown",
   "metadata": {},
   "source": [
    "# Задание 2\n",
    "Дан поток дат в формате YYYY-MM-DD, в которых встречаются некорректные значения:\n",
    "stream = [‘2018-04-02’, ‘2018-02-29’, ‘2018-19-02’]\n",
    "\n",
    "Напишите функцию, которая проверяет эти даты на корректность. Т. е. для каждой даты возвращает True (дата корректна) или False (некорректная дата).\n",
    "\n"
   ]
  },
  {
   "cell_type": "code",
   "execution_count": null,
   "metadata": {},
   "outputs": [],
   "source": [
    "from datetime import datetime as dt\n",
    "\n",
    "stream = ['2018-04-02', '2017-03-30','2012-06-28',\n",
    "          '2018-04-20','2018-02-29', '2018-19-02', \n",
    "          '2028-00-29', '2018-42-29', '10000-02-39']\n",
    "\n",
    "#simple\n",
    "for element in stream:\n",
    "    try:\n",
    "        dt.strptime(element, '%Y-%m-%d')\n",
    "        print(element, True)\n",
    "    except:\n",
    "        print(element, False)\n",
    "print()\n",
    "\n",
    "#simple+\n",
    "def aproove_date (stream = stream):\n",
    "    aproove = 0\n",
    "    fail = 0\n",
    "    for item in stream:\n",
    "        try:\n",
    "            dt.strptime(item, '%Y-%m-%d')\n",
    "            print(item, True)\n",
    "            aproove += 1\n",
    "        except:\n",
    "            print(item, False)\n",
    "            fail += 1\n",
    "            \n",
    "    print()\n",
    "    print(f'Итого прошло: {aproove + fail} \\\n",
    "    Прошло удачно: {aproove} \\\n",
    "    Прошло не удачно: {fail} ')\n",
    "    \n",
    "\n",
    "aproove_date()"
   ]
  },
  {
   "cell_type": "markdown",
   "metadata": {},
   "source": [
    "# Задание 3\n",
    "Напишите функцию date_range, которая возвращает список дат за период от start_date до end_date. \n",
    "Даты должны вводиться в формате YYYY-MM-DD. В случае неверного формата или при start_date > end_date должен возвращаться пустой список."
   ]
  },
  {
   "cell_type": "code",
   "execution_count": 15,
   "metadata": {},
   "outputs": [
    {
     "name": "stdin",
     "output_type": "stream",
     "text": [
      "Введте дату начала:  2020-01-06\n",
      "Введите дату конца:  2020-01-05\n"
     ]
    },
    {
     "name": "stdout",
     "output_type": "stream",
     "text": [
      "Дата конца не может быть раньше даты начала!\n"
     ]
    }
   ],
   "source": [
    "from datetime import datetime as dt\n",
    "from datetime import timedelta\n",
    "\n",
    "def dattor ():\n",
    "    start_date = input('Введте дату начала: ')\n",
    "    end_date = input('Введите дату конца: ')\n",
    "    \n",
    "    try:\n",
    "        if start_date < end_date:\n",
    "            \n",
    "            start_date_datetime = dt.strptime(start_date, '%Y-%m-%d')\n",
    "            end_date_datetime = dt.strptime(end_date, '%Y-%m-%d')\n",
    "            \n",
    "            while start_date_datetime <= end_date_datetime:\n",
    "                print(start_date_datetime.strftime('%Y-%m-%d'))\n",
    "                start_date_datetime += timedelta(days=1)\n",
    "                \n",
    "        else:\n",
    "            print('Дата конца не может быть раньше даты начала!')   \n",
    "    except:\n",
    "        print('Не верный формат данных!')\n",
    "\n",
    "    \n",
    "dattor()"
   ]
  },
  {
   "cell_type": "markdown",
   "metadata": {},
   "source": [
    "# Задание 4 (бонусное)\n",
    "Ваш коллега прислал код функции:\n",
    "\n",
    "DEFAULT_USER_COUNT = 3\n",
    "\n",
    "def delete_and_return_last_user(region, default_list=[‘A100’, ‘A101’, ‘A102’]):\n",
    "\"\"“\n",
    "Удаляет из списка default_list последнего пользователя\n",
    "и возвращает ID нового последнего пользователя.\n",
    "”\"\"\n",
    "element_to_delete = default_list[-1]\n",
    "default_list.remove(element_to_delete)\n",
    "\n",
    "return default_list[DEFAULT_USER_COUNT-2]\n",
    "\n",
    "При однократном вызове этой функции все работает корректно:\n",
    "delete_and_return_last_user(1)\n",
    "‘A101’\n",
    "\n",
    "Однако, при повторном вызове получается ошибка IndexError: list index out of range.\n",
    "\n",
    "Задание:\n",
    "\n",
    "Что значит ошибка list index out of range?\n",
    "Почему при первом запуске функция работает корректно, а при втором - нет?"
   ]
  },
  {
   "cell_type": "code",
   "execution_count": null,
   "metadata": {},
   "outputs": [],
   "source": []
  }
 ],
 "metadata": {
  "kernelspec": {
   "display_name": "Python 3",
   "language": "python",
   "name": "python3"
  },
  "language_info": {
   "codemirror_mode": {
    "name": "ipython",
    "version": 3
   },
   "file_extension": ".py",
   "mimetype": "text/x-python",
   "name": "python",
   "nbconvert_exporter": "python",
   "pygments_lexer": "ipython3",
   "version": "3.8.5"
  }
 },
 "nbformat": 4,
 "nbformat_minor": 4
}
