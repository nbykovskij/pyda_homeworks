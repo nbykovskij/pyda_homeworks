{
 "cells": [
  {
   "cell_type": "markdown",
   "metadata": {},
   "source": [
    "# Домашнее задание к лекции \"Введение в типы данных и циклы. Часть 2\""
   ]
  },
  {
   "cell_type": "markdown",
   "metadata": {},
   "source": [
    "## Задание 1\n",
    "Дана переменная, в которой хранится словарь, содержащий гео-метки для каждого пользователя (пример структуры данных приведен ниже). Вам необходимо написать программу, которая выведет на экран множество уникальных гео-меток всех пользователей.\n",
    "\n",
    "Пример работы программы:  \n",
    "\n",
    "```\n",
    "ids = {'user1': [213, 213, 213, 15, 213], \n",
    "       'user2': [54, 54, 119, 119, 119], \n",
    "       'user3': [213, 98, 98, 35]}\n",
    "```\n",
    "\n",
    "Результат: \n",
    "`{98, 35, 15, 213, 54, 119}`"
   ]
  },
  {
   "cell_type": "code",
   "execution_count": 1,
   "metadata": {},
   "outputs": [],
   "source": [
    "ids = {'user1': [213, 213, 213, 15, 213], \n",
    "       'user2': [54, 54, 119, 119, 119], \n",
    "       'user3': [213, 98, 98, 35]}"
   ]
  },
  {
   "cell_type": "code",
   "execution_count": 357,
   "metadata": {},
   "outputs": [
    {
     "name": "stdout",
     "output_type": "stream",
     "text": [
      "{98, 35, 15, 213, 54, 119}\n"
     ]
    }
   ],
   "source": [
    "set_id = []\n",
    "\n",
    "for element in ids.values():\n",
    "    for item in element:\n",
    "        if item not in set_id:\n",
    "            set_id.append(item)\n",
    "            \n",
    "set(sorted(set_id))"
   ]
  },
  {
   "cell_type": "markdown",
   "metadata": {},
   "source": [
    "## Задание 2\n",
    "Дана переменная, в которой хранится список поисковых запросов пользователя (пример структуры данных приведен ниже). Вам необходимо написать программу, которая выведет на экран распределение количества слов в запросах в требуемом виде.\n",
    "\n",
    "Пример работы программы:  \n",
    "\n",
    "```\n",
    "queries = [\n",
    "    'смотреть сериалы онлайн',\n",
    "    'новости спорта',\n",
    "    'афиша кино',\n",
    "    'курс доллара',\n",
    "    'сериалы этим летом',\n",
    "    'курс по питону',\n",
    "    'сериалы про спорт',\n",
    "]\n",
    "```\n",
    "\n",
    "Результат: \n",
    "```\n",
    "Поисковых запросов, содержащих 2 слов(а): 42.86%\n",
    "Поисковых запросов, содержащих 3 слов(а): 57.14%\n",
    "```"
   ]
  },
  {
   "cell_type": "code",
   "execution_count": 105,
   "metadata": {},
   "outputs": [],
   "source": [
    "queries = [\n",
    "    'смотреть сериалы онлайн',\n",
    "    'новости спорта',\n",
    "    'афиша кино',\n",
    "    'курс доллара может упасть',\n",
    "    'курс доллара сша уже обвалился',\n",
    "    'курс доллара курс доллара сша фыаввфым',\n",
    "    'курс доллара ывфаыдло одрывал лдфываолдвы ',\n",
    "    'курс доллара выаыфафцва вцдлаовыц выдаловыдлфао',\n",
    "    'курс доллара ывлдаовылф ывфдлаовдыл фваолдфывао фвылдао',\n",
    "    'сериалы этим летом',\n",
    "    'курс по питону',\n",
    "    'сериалы про спорт',\n",
    "]"
   ]
  },
  {
   "cell_type": "code",
   "execution_count": 445,
   "metadata": {},
   "outputs": [
    {
     "name": "stdout",
     "output_type": "stream",
     "text": [
      "Поисковых запросов, содержащих 2 слов(а): 42.86%\n",
      "Поисковых запросов, содержащих 3 слов(а): 57.14%\n"
     ]
    }
   ],
   "source": [
    "#Первый подход\n",
    "my_list = []\n",
    "total = len(queries)\n",
    "two = 0\n",
    "three = 0\n",
    "\n",
    "for element in queries: #перебор базового списка с подсчетом слов в элементе\n",
    "    a = element.split(' ')\n",
    "    my_list.append(len(a))\n",
    "\n",
    "for element in my_list: #перебираю элементы скопированного списка под условие\n",
    "    if element == 2:\n",
    "        two += 1\n",
    "    elif element == 3:\n",
    "        three +=1\n",
    "    else:\n",
    "        continue\n",
    "        \n",
    "print(f'Поисковых запросов, содержащих 2 слов(а): {round((two/total)round(}%')\n",
    "print(f'Поисковых запросов, содержащих 3 слов(а): {round((three/total)*100, 2)}%')"
   ]
  },
  {
   "cell_type": "code",
   "execution_count": 162,
   "metadata": {},
   "outputs": [
    {
     "name": "stdout",
     "output_type": "stream",
     "text": [
      "Поисковых запросов, содержащих 1 слов(а): 1. Что составляет 7.69%\n",
      "Поисковых запросов, содержащих 2 слов(а): 2. Что составляет 15.38%\n",
      "Поисковых запросов, содержащих 3 слов(а): 4. Что составляет 30.77%\n",
      "Поисковых запросов, содержащих 4 слов(а): 1. Что составляет 7.69%\n",
      "Поисковых запросов, содержащих 5 слов(а): 2. Что составляет 15.38%\n",
      "Поисковых запросов, содержащих 6 слов(а): 3. Что составляет 23.08%\n",
      "\n",
      "--- 0.03675103187561035 секунд ---\n"
     ]
    },
    {
     "data": {
      "image/png": "[encoded data removed]",
      "text/plain": [
       "<Figure size 432x288 with 1 Axes>"
      ]
     },
     "metadata": {},
     "output_type": "display_data"
    }
   ],
   "source": [
    "#Третий подход\n",
    "queries = [\n",
    "    'КРЯ',\n",
    "    'смотреть сериалы онлайн',\n",
    "    'новости спорта',\n",
    "    'афиша кино',\n",
    "    'курс доллара может упасть',\n",
    "    'курс доллара сша уже обвалился',\n",
    "    'курс доллара курс доллара сша фыаввфым',\n",
    "    'курс доллара ывфаыдло одрывал лдфываолдвы ',\n",
    "    'курс доллара выаыфафцва вцдлаовыц выдаловыдлфао',\n",
    "    'курс доллара ывлдаовылф ывфдлаовдыл фваолдфывао фвылдао',\n",
    "    'сериалы этим летом',\n",
    "    'курс по питону',\n",
    "    'сериалы про спорт',\n",
    "]\n",
    "\n",
    "import time\n",
    "import seaborn as sns\n",
    "\n",
    "start_time = time.time()\n",
    "my_dict = {}\n",
    "\n",
    "def wordcounter(dictionary, tmp_dic_path):\n",
    "\n",
    "    for element in dictionary:\n",
    "        dict_elem = str(len(element.split(' ')))\n",
    "        if dict_elem not in tmp_dic_path.keys():\n",
    "            tmp_dic_path[dict_elem] = 1 #Иду от обратного (если там нет в словаре значения, то вов ремя первой проходки пишу туда ключ + 1единицу)\n",
    "        else:\n",
    "            tmp_dic_path[dict_elem] += 1 #Если есть, то просто добавляю единицу\n",
    "\n",
    "    for item in sorted(tmp_dic_path.items()):\n",
    "        summary = sum(v for v in tmp_dic_path.values())\n",
    "        print(f'Поисковых запросов, содержащих {item[0]} слов(а): {item[1]}. Что составляет {round((item[1]/summary)*100, 2)}%')\n",
    "\n",
    "wordcounter(dictionary = queries, \n",
    "            tmp_dic_path = my_dict)\n",
    "\n",
    "#Визуализация\n",
    "sns.barplot(x=list(my_dict.keys()),y=list(my_dict.values()))\n",
    "\n",
    "#Время отработки\n",
    "print(\"\\n--- %s секунд ---\" % (time.time() - start_time))\n",
    "\n"
   ]
  },
  {
   "cell_type": "markdown",
   "metadata": {},
   "source": [
    "## Задание 3\n",
    "Дана переменная, в которой хранится информация о затратах и доходе рекламных кампаний по различным источникам. Необходимо дополнить исходную структуру показателем [ROI](https://ru.wikipedia.org/wiki/%D0%9E%D0%BA%D1%83%D0%BF%D0%B0%D0%B5%D0%BC%D0%BE%D1%81%D1%82%D1%8C_%D0%B8%D0%BD%D0%B2%D0%B5%D1%81%D1%82%D0%B8%D1%86%D0%B8%D0%B9), который рассчитаем по формуле: **(revenue / cost - 1) * 100**\n",
    "\n",
    "Пример работы программы:  \n",
    "\n",
    "```\n",
    "results = {\n",
    "    'vk': {'revenue': 103, 'cost': 98},\n",
    "    'yandex': {'revenue': 179, 'cost': 153},\n",
    "    'facebook': {'revenue': 103, 'cost': 110},\n",
    "    'adwords': {'revenue': 35, 'cost': 34},\n",
    "    'twitter': {'revenue': 11, 'cost': 24},\n",
    "}\n",
    "```\n",
    "\n",
    "Результат: \n",
    "```\n",
    "{'adwords': {'revenue': 35, 'cost': 34, 'ROI': 2.94},\n",
    " 'facebook': {'revenue': 103, 'cost': 110, 'ROI': -6.36},\n",
    " 'twitter': {'revenue': 11, 'cost': 24, 'ROI': -54.17},\n",
    " 'vk': {'revenue': 103, 'cost': 98, 'ROI': 5.1},\n",
    " 'yandex': {'revenue': 179, 'cost': 153, 'ROI': 16.99}}\n",
    "```"
   ]
  },
  {
   "cell_type": "code",
   "execution_count": 455,
   "metadata": {},
   "outputs": [
    {
     "name": "stdout",
     "output_type": "stream",
     "text": [
      "{'adwords': {'ROI': 2.94, 'cost': 34, 'revenue': 35},\n",
      " 'facebook': {'ROI': -6.36, 'cost': 110, 'revenue': 103},\n",
      " 'twitter': {'ROI': -54.17, 'cost': 24, 'revenue': 11},\n",
      " 'vk': {'ROI': 5.1, 'cost': 98, 'revenue': 103},\n",
      " 'yandex': {'ROI': 16.99, 'cost': 153, 'revenue': 179}}\n"
     ]
    }
   ],
   "source": [
    "import pprint\n",
    "\n",
    "results = {\n",
    "    'vk': {'revenue': 103, 'cost': 98},\n",
    "    'yandex': {'revenue': 179, 'cost': 153},\n",
    "    'facebook': {'revenue': 103, 'cost': 110},\n",
    "    'adwords': {'revenue': 35, 'cost': 34},\n",
    "    'twitter': {'revenue': 11, 'cost': 24},\n",
    "}\n",
    "\n",
    "res_copy = results.copy()\n",
    "\n",
    "for soc, value in res_copy.items():\n",
    "    value['ROI'] = round(((value['revenue'] / value['cost']) - 1)*100 , 2)\n",
    "\n",
    "pp.pprint(results)  #без этого модуля не пойму как выводить в таком же формате как в задании\n"
   ]
  },
  {
   "cell_type": "markdown",
   "metadata": {},
   "source": [
    "## Задание 4\n",
    "Дана переменная, в которой хранится статистика рекламных каналов по объемам продаж (пример структуры данных приведен ниже). Напишите программу, которая возвращает название канала с максимальным объемом продаж.\n",
    "\n",
    "Пример работы программы:  \n",
    "\n",
    "`stats = {'facebook': 55, 'yandex': 115, 'vk': 120, 'google': 99, 'email': 42, 'ok': 98}`\n",
    "\n",
    "Результат: \n",
    "`Максимальный объем продаж на рекламном канале: vk`"
   ]
  },
  {
   "cell_type": "code",
   "execution_count": 406,
   "metadata": {},
   "outputs": [],
   "source": [
    "stats = {'facebook': 55, 'yandex': 115, 'vk': 120, 'google': 99, 'email': 42, 'ok': 98}"
   ]
  },
  {
   "cell_type": "code",
   "execution_count": 407,
   "metadata": {},
   "outputs": [
    {
     "name": "stdout",
     "output_type": "stream",
     "text": [
      "Максимальный объем продаж на рекламном канале: vk\n"
     ]
    }
   ],
   "source": [
    "flag = 0\n",
    "flag_char = ''\n",
    "\n",
    "for element in stats.items():\n",
    "    if element[1] > flag:\n",
    "        flag = element[1]\n",
    "        flag_char = element[0]\n",
    "\n",
    "print(f'Максимальный объем продаж на рекламном канале: {flag_char}')"
   ]
  }
 ],
 "metadata": {
  "kernelspec": {
   "display_name": "Python 3",
   "language": "python",
   "name": "python3"
  },
  "language_info": {
   "codemirror_mode": {
    "name": "ipython",
    "version": 3
   },
   "file_extension": ".py",
   "mimetype": "text/x-python",
   "name": "python",
   "nbconvert_exporter": "python",
   "pygments_lexer": "ipython3",
   "version": "3.8.5"
  }
 },
 "nbformat": 4,
 "nbformat_minor": 4
}
