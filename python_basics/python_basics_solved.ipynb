{
 "cells": [
  {
   "cell_type": "markdown",
   "metadata": {},
   "source": [
    "# Домашнее задание к лекции \"Основы Python\""
   ]
  },
  {
   "cell_type": "markdown",
   "metadata": {},
   "source": [
    "## Задание 1"
   ]
  },
  {
   "cell_type": "markdown",
   "metadata": {},
   "source": [
    "Даны 2 переменных, в которых хранятся строки произвольной длины: *phrase_1* и *phrase_2*.  \n",
    "Напишите код, который проверяет какая из этих строк длиннее."
   ]
  },
  {
   "cell_type": "markdown",
   "metadata": {},
   "source": [
    "Примеры работы программы:  \n",
    "1.  \n",
    "\n",
    "```\n",
    "phrase_1 = 'Насколько проще было бы писать программы, если бы не заказчики'\n",
    "phrase_2 = '640Кб должно хватить для любых задач. Билл Гейтс (по легенде)'\n",
    "\n",
    "```\n",
    "\n",
    "Результат:  \n",
    "`Фраза 1 длиннее фразы 2`\n",
    "2.     \n",
    "\n",
    "```\n",
    "phrase_1 = '640Кб должно хватить для любых задач. Билл Гейтс (по легенде)'\n",
    "phrase_2 = 'Насколько проще было бы писать программы, если бы не заказчики'\n",
    "```\n",
    "\n",
    "Результат:  \n",
    "`Фраза 2 длиннее фразы 1`\n",
    "3.     \n",
    "\n",
    "```\n",
    "phrase_1 = 'Насколько проще было бы писать программы, если бы не заказчики'\n",
    "phrase_2 = 'Насколько проще было бы писать программы, если бы не заказчики'\n",
    "```\n",
    "\n",
    "Результат:  \n",
    "`Фразы равной длины`"
   ]
  },
  {
   "cell_type": "code",
   "execution_count": 4,
   "metadata": {},
   "outputs": [
    {
     "name": "stdout",
     "output_type": "stream",
     "text": [
      "Фраза 1 длиннее фразы 2\n"
     ]
    }
   ],
   "source": [
    "phrase_1 = 'Насколько проще было бы писать программы, если бы не заказчики'\n",
    "phrase_2 = '640Кб должно хватить для любых задач. Билл Гейтс (по легенде)'\n",
    "\n",
    "if phrase_1 > phrase_2:\n",
    "    print(\"Фраза 1 длиннее фразы 2\")\n",
    "else:\n",
    "    print(\"Фраза 2 длиннее фразы 1\")"
   ]
  },
  {
   "cell_type": "code",
   "execution_count": 10,
   "metadata": {},
   "outputs": [
    {
     "name": "stdout",
     "output_type": "stream",
     "text": [
      "Фраза 2 длиннее фразы 1\n"
     ]
    }
   ],
   "source": [
    "phrase_1 = 'Насколько проще было бы писать программы, если бы не заказчики'\n",
    "phrase_2 = '640Кб должно хватить для любых задач. Билл Гейтс (по легенде)'\n",
    "\n",
    "if phrase_1 < phrase_2:\n",
    "    print(\"Фраза 1 длиннее фразы 2\")\n",
    "else:\n",
    "    print(\"Фраза 2 длиннее фразы 1\")"
   ]
  },
  {
   "cell_type": "code",
   "execution_count": 31,
   "metadata": {},
   "outputs": [
    {
     "name": "stdout",
     "output_type": "stream",
     "text": [
      "фразы равны\n"
     ]
    }
   ],
   "source": [
    "phrase_1 = 'Насколько проще было бы писать программы, если бы не заказчики'\n",
    "phrase_2 = 'Насколько проще было бы писать программы, если бы не заказчики'\n",
    "\n",
    "if phrase_1 > phrase_2:\n",
    "    print(\"Фраза 1 длиннее фразы 2\")\n",
    "elif phrase_1 < phrase_2:\n",
    "    print(\"Фраза 2 длиннее фразы 1\")\n",
    "elif phrase_1 == phrase_2:\n",
    "    print(\"фразы равны\")\n",
    "else:\n",
    "    print(\"Коллапс\")"
   ]
  },
  {
   "cell_type": "markdown",
   "metadata": {},
   "source": [
    "## Задание 2"
   ]
  },
  {
   "cell_type": "markdown",
   "metadata": {},
   "source": [
    "Дана переменная, в которой хранится четырехзначное число (год). Необходимо написать программу, которая выведет, является ли данный год високосным или обычным.\n",
    "\n",
    "Пример работы программы:\n",
    "1.  \n",
    "\n",
    "```\n",
    "year = 2020\n",
    "```\n",
    "Результат:  \n",
    "`Високосный год` \n",
    "\n",
    "2.  \n",
    "\n",
    "```\n",
    "year = 2019\n",
    "```\n",
    "Результат:  \n",
    "`Обычный год` "
   ]
  },
  {
   "cell_type": "code",
   "execution_count": 14,
   "metadata": {},
   "outputs": [
    {
     "name": "stdout",
     "output_type": "stream",
     "text": [
      "Обычный год\n"
     ]
    }
   ],
   "source": [
    "year = 2019\n",
    "\n",
    "if year % 4 == 0 and year % 100 != 0 or year % 400 == 0:\n",
    "    print(\"Високосный год\")\n",
    "else:\n",
    "    print(\"Обычный год\")"
   ]
  },
  {
   "cell_type": "code",
   "execution_count": 15,
   "metadata": {},
   "outputs": [
    {
     "name": "stdout",
     "output_type": "stream",
     "text": [
      "Високосный год\n"
     ]
    }
   ],
   "source": [
    "year = 2020\n",
    "\n",
    "if year % 4 == 0 and year % 100 != 0 or year % 400 == 0:\n",
    "    print(\"Високосный год\")\n",
    "else:\n",
    "    print(\"Обычный год\")"
   ]
  },
  {
   "cell_type": "markdown",
   "metadata": {},
   "source": [
    "## Задание 3"
   ]
  },
  {
   "cell_type": "markdown",
   "metadata": {},
   "source": [
    "Необходимо написать программу, которая будет запрашивать у пользователя месяц и дату рождения и выводить соответствующий знак зодиака.\n",
    "\n",
    "Пример работы программы:  \n",
    "1.  \n",
    "\n",
    "```\n",
    "Введите день:\n",
    "30\n",
    "\n",
    "Введите месяц:\n",
    "Август\n",
    "```\n",
    "Результат:  \n",
    "`Ваш знак зодиака: Дева` \n",
    "\n",
    "2.  \n",
    "\n",
    "```\n",
    "Введите день:\n",
    "29\n",
    "\n",
    "Введите месяц:\n",
    "Октябрь\n",
    "```\n",
    "Результат:  \n",
    "`Ваш знак зодиака: Скорпион` \n"
   ]
  },
  {
   "cell_type": "code",
   "execution_count": 30,
   "metadata": {},
   "outputs": [
    {
     "name": "stdout",
     "output_type": "stream",
     "text": [
      "Введите день рождения:19\n",
      "Введите месяц рождения:Декабрь\n",
      "Ваш знак зодиака: Стрелец\n"
     ]
    }
   ],
   "source": [
    "date=int(input(\"Введите день рождения:\"))\n",
    "month=input(\"Введите месяц рождения:\")\n",
    "\n",
    "if (date>=22 and date<=31 and month==\"Декабрь\") or(month==\"Январь\" and date>=1 and date<=20):\n",
    "   print(\"Ваш знак зодиака: Козерог\")\n",
    "elif (date>=21 and date<=31 and month==\"Январь\") or(month==\"Февраль\" and date>=1 and date<=18):\n",
    "   print(\"Ваш знак зодиака: Водолей\")\n",
    "elif (date>=19 and date<=29 and month==\"Февраль\") or(month==\"Март\" and date>=1 and date<=20):\n",
    "   print(\"Ваш знак зодиака: Рыбы\")\n",
    "elif (date>=21 and date<=31 and month==\"Март\") or (month==\"Апрель\" and date>=1 and date<=19):\n",
    "   print(\"Ваш знак зодиака: Овен\")\n",
    "elif (date>=20 and date<=30 and month==\"Апрель\") or (month==\"Май\" and date>=1 and date<=20):\n",
    "   print(\"Ваш знак зодиака: Телец\")\n",
    "elif (date>=21 and date<=31 and month==\"Май\") or (month==\"Июнь\" and date>=1 and date<=21):\n",
    "   print(\"Ваш знак зодиака: Близнецы\")\n",
    "elif (date>=22 and date<=30 and month==\"Июнь\") or (month==\"Июль\" and date>=1 and date<=22):\n",
    "   print(\"Ваш знак зодиака: Рак\")\n",
    "elif (date>=23 and date<=31 and month==\"Июль\") or (month==\"Август\" and date>=1 and date<=22):\n",
    "   print(\"Ваш знак зодиака: Лев\")\n",
    "elif (date>=23 and date<=31 and month==\"Август\") or(month==\"Сентябрь\" and date>=1 and date<=22):\n",
    "   print(\"Ваш знак зодиака: Дева\")\n",
    "elif (date>=23 and date<=30 and month==\"Сентябрь\") or(month==\"Октябрь\" and date>=1 and date<=23):\n",
    "   print(\"Ваш знак зодиака: Весы\")\n",
    "elif (date>=24 and date<=31 and month==\"Октябрь\") or(month==\"Ноябрь\" and date>=1 and date<=22):\n",
    "   print(\"ЗВаш знак зодиака: Скорпион\")\n",
    "elif (date>=23 and date<=30 and month==\"Ноябрь\") or(month==\"Декабрь\" and date>=1 and date<=21):\n",
    "   print(\"Ваш знак зодиака: Стрелец\")\n",
    "else:\n",
    "    print(\"вызывайте астролога на дом\")"
   ]
  },
  {
   "cell_type": "markdown",
   "metadata": {},
   "source": [
    "## Задание 4"
   ]
  },
  {
   "cell_type": "markdown",
   "metadata": {},
   "source": [
    "Вам нужно написать программу для подбора упаковок по размерам товара. Размеры (ширина, длина, высота) хранятся в переменных (в сантиметрах):\n",
    "\n",
    "Используйте следующие правила:\n",
    "- если каждое из трех измерений менее 15 сантиметров, то выведите на экран \"Коробка №1\";\n",
    "- если хотя бы одно из измерений больше 15 сантиметров, но менее 50 сантиметров, то выводите \"Коробка №2\";\n",
    "- если длина товара больше 2 метров, то выводите \"Упаковка для лыж\";\n",
    "- во всех остальных случаях выводите \"Стандартная коробка №3\".\n",
    "\n",
    "Пример работы программы:  \n",
    "1.  \n",
    "\n",
    "```\n",
    "width = 15\n",
    "length = 50\n",
    "height = 15\n",
    "```\n",
    "Результат:  \n",
    "`Стандартная коробка №3` \n",
    "\n",
    "2.  \n",
    "\n",
    "```\n",
    "width = 45\n",
    "length = 205\n",
    "height = 45\n",
    "```\n",
    "Результат:  \n",
    "`Ищите упаковку для лыж` "
   ]
  },
  {
   "cell_type": "code",
   "execution_count": 61,
   "metadata": {},
   "outputs": [
    {
     "name": "stdout",
     "output_type": "stream",
     "text": [
      "width:200\n",
      "length:205\n",
      "height:250\n",
      "Ищите упаковку для лыж\n"
     ]
    }
   ],
   "source": [
    "width = int(input(\"width:\"))\n",
    "length = int(input(\"length:\"))\n",
    "height = int(input(\"height:\"))\n",
    "\n",
    "if width < 15 and length < 15 and height < 15:\n",
    "    print(\"Стандартная коробка №1\")\n",
    "elif (width > 15 or length > 15 or height >15) and (width < 50 or length < 50 or height < 50) and length <= 200:\n",
    "    print(\"Коробка №2\")\n",
    "elif length > 200:\n",
    "    print(\"Ищите упаковку для лыж\")\n",
    "else:\n",
    "    print(\"Стандартная упаковка №3\")"
   ]
  },
  {
   "cell_type": "markdown",
   "metadata": {},
   "source": [
    "## Задание 5 (необязательное)"
   ]
  },
  {
   "cell_type": "markdown",
   "metadata": {},
   "source": [
    "Дана переменная, в которой хранится шестизначное число (номер проездного билета). Напишите программу, которая будет определять, является ли данный билет \"счастливым\". Билет считается счастливым, если сумма первых трех цифр совпадает с суммой последних трех цифр номера.   \n",
    "\n",
    "Примеры работы программы:  \n",
    "1. ```number = 123456```\n",
    "\n",
    "Результат:  \n",
    "`Несчастливый билет`\n",
    "2. ```number = 123321```\n",
    "\n",
    "Результат:  \n",
    "`Счастливый билет`\n"
   ]
  },
  {
   "cell_type": "code",
   "execution_count": 91,
   "metadata": {},
   "outputs": [
    {
     "name": "stdout",
     "output_type": "stream",
     "text": [
      "Vvedite nomer bileta: 123321\n",
      "SCHASTLIVIJ BILET!\n"
     ]
    }
   ],
   "source": [
    "number = str(input(\"Vvedite nomer bileta: \"))\n",
    "\n",
    "pervie_tri = int(number[0])+int(number[1])+int(number[2])\n",
    "vtorye_tri = int(number[3])+int(number[4])+int(number[5])\n",
    "\n",
    "if pervie_tri==vtorye_tri:\n",
    "  print('SCHASTLIVIJ BILET!')\n",
    "else:\n",
    "  print('NE SCHASTLIVIJ BILET :c')"
   ]
  },
  {
   "cell_type": "markdown",
   "metadata": {},
   "source": [
    "## Задание 6 (необязательное)"
   ]
  },
  {
   "cell_type": "markdown",
   "metadata": {},
   "source": [
    "Напишите программу, которая сможет вычислять площади трех фигур (круг, треугольник и прямоугольник).\n",
    "Тип фигуры запрашиваем через пользовательский ввод, после чего делаем запрос характеристик фигуры:\n",
    "\n",
    "- если пользователь выбрал круг, запрашиваем его радиус,\n",
    "- если треугольник – длины трех его сторон;\n",
    "- если прямоугольник – длины двух его сторон.\n",
    "\n",
    "Пример работы программы:\n",
    "1.  \n",
    "\n",
    "```\n",
    "Введите тип фигуры:\n",
    "Круг\n",
    "\n",
    "Введите радиус круга:\n",
    "10\n",
    "```\n",
    "Результат:  \n",
    "`Площадь круга: 314.16`\n",
    "\n",
    "2.  \n",
    "\n",
    "```\n",
    "Введите тип фигуры:\n",
    "Треугольник\n",
    "\n",
    "Введите длину стороны A:\n",
    "2\n",
    "\n",
    "Введите длину стороны B:\n",
    "2\n",
    "\n",
    "Введите длину стороны C:\n",
    "3\n",
    "```\n",
    "Результат:  \n",
    "`Площадь треугольника: 1.98`"
   ]
  },
  {
   "cell_type": "code",
   "execution_count": 89,
   "metadata": {},
   "outputs": [
    {
     "name": "stdout",
     "output_type": "stream",
     "text": [
      "Vvedite tip figury: Krug\n",
      "vvedite radius: 10\n",
      "314.0\n"
     ]
    }
   ],
   "source": [
    "fig_type = input(\"Vvedite tip figury: \")\n",
    "\n",
    "if fig_type == \"Pryamougolnik\":\n",
    "    a = float(input(\"vvedite A: \"))\n",
    "    b = float(input(\"vvedite B: \"))\n",
    "    S = a * b #S pryamougolnika\n",
    "    print(S) \n",
    "elif fig_type == \"Krug\":\n",
    "    pi = float(3.14)\n",
    "    r = float(input(\"vvedite radius: \"))\n",
    "    S = round(pi * (r ** 2), 2) #S kruga\n",
    "    print(S) \n",
    "elif fig_type == \"Treugolnik\":\n",
    "    a = float(input(\"vvedite A: \"))\n",
    "    b = float(input(\"vvedite B: \"))\n",
    "    c = float(input(\"vvedite C: \"))\n",
    "    p = (a + b + c)/2 #Perimetr \n",
    "    S = round((p*(p-a)*(p-b)*(p-c))**0.5, 2) #formula gerona\n",
    "    print(S)\n",
    "else:\n",
    "    print(\"Error!\")"
   ]
  },
  {
   "cell_type": "code",
   "execution_count": null,
   "metadata": {},
   "outputs": [],
   "source": []
  }
 ],
 "metadata": {
  "kernelspec": {
   "display_name": "Python 3",
   "language": "python",
   "name": "python3"
  },
  "language_info": {
   "codemirror_mode": {
    "name": "ipython",
    "version": 3
   },
   "file_extension": ".py",
   "mimetype": "text/x-python",
   "name": "python",
   "nbconvert_exporter": "python",
   "pygments_lexer": "ipython3",
   "version": "3.8.5"
  }
 },
 "nbformat": 4,
 "nbformat_minor": 2
}
