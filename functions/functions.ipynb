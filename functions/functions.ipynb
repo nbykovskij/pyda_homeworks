{
 "cells": [
  {
   "cell_type": "markdown",
   "metadata": {},
   "source": [
    "# Домашнее задание к лекции \"Функции\""
   ]
  },
  {
   "cell_type": "markdown",
   "metadata": {},
   "source": [
    "Вам нужно помочь секретарю автоматизировать работу. Для этого нужно написать программу, которая будет на основе хранимых данных исполнять пользовательские команды.\n",
    "\n",
    "Исходные данные имеют следующую структуру:\n",
    "\n",
    "1. перечень всех документов\n",
    "```\n",
    "documents = [\n",
    "    {'type': 'passport', 'number': '2207 876234', 'name': 'Василий Гупкин'},\n",
    "    {'type': 'invoice', 'number': '11-2', 'name': 'Геннадий Покемонов'},\n",
    "    {'type': 'insurance', 'number': '10006', 'name': 'Аристарх Павлов'}\n",
    "]\n",
    "```\n",
    "2. перечень полок, на которых хранятся документы (если документ есть в documents, то он обязательно должен быть и в directories)\n",
    "```\n",
    "directories = {\n",
    "    '1': ['2207 876234', '11-2'],\n",
    "    '2': ['10006'],\n",
    "    '3': []\n",
    "}\n",
    "```\n",
    "\n",
    "Общие требования к программе:\n",
    "- код должен быть грамотно декомпозирован (каждая функция отвечает за свою конкретную задачу, дублирующийся функционал переиспользуется, а его код не повторяется);\n",
    "- в коде отсутствуют глобальные переменные (за исключением **documents** и **directories**);\n",
    "- пользовательский ввод обрабатывается в цикле **while** до тех пор, пока пользователь явно не завершит программу (вводом команды \"**q**\")."
   ]
  },
  {
   "cell_type": "code",
   "execution_count": 1,
   "metadata": {},
   "outputs": [],
   "source": [
    "documents = [\n",
    " {'type': 'passport', 'number': '2207 876234', 'name': 'Василий Гупкин'},\n",
    " {'type': 'invoice', 'number': '11-2', 'name': 'Геннадий Покемонов'},\n",
    " {'type': 'insurance', 'number': '10006', 'name': 'Аристарх Павлов'}\n",
    "]\n",
    "\n",
    "directories = {\n",
    " '1': ['2207 876234', '11-2'],\n",
    " '2': ['10006'],\n",
    " '3': []\n",
    "}"
   ]
  },
  {
   "cell_type": "code",
   "execution_count": 5,
   "metadata": {},
   "outputs": [],
   "source": [
    "def author ():\n",
    "    author = ''\n",
    "    number = input('Введите номер документа: ')\n",
    "    for element in documents:\n",
    "        if number in element['number']:\n",
    "            author = element['name']\n",
    "        else:\n",
    "            pass   \n",
    "        \n",
    "    if author != '':\n",
    "        print(f'Владелец документа: {author}')\n",
    "    else:\n",
    "        print('Документ не найден в базе')\n",
    "        \n",
    "\n",
    "def direct ():\n",
    "    number = input('Введите номер документа: ')\n",
    "    directs = []\n",
    "    for element in directories.items():\n",
    "        if number in element[1]:\n",
    "            directs = element[0]\n",
    "        else:\n",
    "            pass\n",
    "    if directs != []:\n",
    "        print(f'Документ хранится на полке: {directs}')\n",
    "    else:\n",
    "        print(f'Документ не найден')  \n",
    "        \n",
    "        \n",
    "def listes ():\n",
    "    for element in documents:\n",
    "        doc_type = element['type']\n",
    "        doc_number = element['number']\n",
    "        doc_author = element['name']\n",
    "        for items in directories.items(): \n",
    "            if doc_number in items[1]:\n",
    "                print(f'№: {doc_number}, тип: {doc_type}, владелец: {doc_author}, полка хранения: {items[0]}')\n",
    "                \n",
    "def added ():\n",
    "    ads = input('Введите полку: ')\n",
    "    if ads in directories.keys():\n",
    "        print('\\nПолка уже существет!')\n",
    "    else:\n",
    "        directories[ads] = []     \n",
    "    print(f'Текущий перечень полок: {list(directories.keys()) }')\n",
    "    \n",
    "def deleted ():\n",
    "    del_dir = input('Введите полку: ')\n",
    "    \n",
    "    if del_dir not in directories.keys():\n",
    "        print('Такой полки не существует!')\n",
    "    else:\n",
    "        if directories[del_dir] == []:\n",
    "            del directories[del_dir]\n",
    "            print(f'Текущий перечень полок: {list(directories.keys()) }')\n",
    "        else:\n",
    "            print('Полка не пустая!!!')"
   ]
  },
  {
   "cell_type": "code",
   "execution_count": 3,
   "metadata": {},
   "outputs": [],
   "source": [
    "def progstart():\n",
    "    command = ''\n",
    "    while command != 'q':\n",
    "        command = input('Введите команду: ')\n",
    "        if command == 'p':\n",
    "            author()\n",
    "            print()\n",
    "        elif command == 's':\n",
    "            direct()\n",
    "            print()\n",
    "        elif command == 'l':\n",
    "            listes()\n",
    "            print()\n",
    "        elif command == 'ads':\n",
    "            added()\n",
    "            print()\n",
    "        elif command == 'del':\n",
    "            deleted()\n",
    "            print()\n",
    "        elif command == 'q':\n",
    "            print('На нет и суда нет')\n",
    "        elif command == 'help':\n",
    "            print('command list: \\n p - поиск автора по номеру документа; \\n s - поиск полки длокумента \\n l - вывод на экран полной информации о хранимых документах \\n ads - добавить полку для хранения \\n del - удалить полку хранения')\n",
    "            print()\n",
    "        else:\n",
    "            print('Я вызываю полицию!')\n",
    "            print()"
   ]
  },
  {
   "cell_type": "code",
   "execution_count": null,
   "metadata": {},
   "outputs": [
    {
     "name": "stdout",
     "output_type": "stream",
     "text": [
      "Введите команду: 11-3\n",
      "Я вызываю полицию!\n",
      "\n",
      "Введите команду: p\n",
      "Введите номер документа: 11-3\n",
      "Документ не найден в базе\n",
      "\n",
      "Введите команду: p\n",
      "Введите номер документа: 11-2\n",
      "Владелец документа: Геннадий Покемонов\n",
      "\n"
     ]
    }
   ],
   "source": [
    "progstart()"
   ]
  },
  {
   "cell_type": "code",
   "execution_count": null,
   "metadata": {},
   "outputs": [],
   "source": []
  }
 ],
 "metadata": {
  "kernelspec": {
   "display_name": "Python 3",
   "language": "python",
   "name": "python3"
  },
  "language_info": {
   "codemirror_mode": {
    "name": "ipython",
    "version": 3
   },
   "file_extension": ".py",
   "mimetype": "text/x-python",
   "name": "python",
   "nbconvert_exporter": "python",
   "pygments_lexer": "ipython3",
   "version": "3.8.5"
  }
 },
 "nbformat": 4,
 "nbformat_minor": 4
}
